{
  "nbformat": 4,
  "nbformat_minor": 0,
  "metadata": {
    "colab": {
      "provenance": [],
      "include_colab_link": true
    },
    "kernelspec": {
      "name": "python3",
      "display_name": "Python 3"
    },
    "language_info": {
      "name": "python"
    }
  },
  "cells": [
    {
      "cell_type": "markdown",
      "metadata": {
        "id": "view-in-github",
        "colab_type": "text"
      },
      "source": [
        "<a href=\"https://colab.research.google.com/github/Pavankumarpalaparthi/Fmmllab/blob/main/python_basics_Day1.ipynb\" target=\"_parent\"><img src=\"https://colab.research.google.com/assets/colab-badge.svg\" alt=\"Open In Colab\"/></a>"
      ]
    },
    {
      "cell_type": "markdown",
      "source": [
        "\n",
        "Declare a variable called \"aid\" and asign a value as your name then print the name like \"Kiet\"\n",
        "---\n",
        "\n"
      ],
      "metadata": {
        "id": "2UrXUibXpdQn"
      }
    },
    {
      "cell_type": "code",
      "source": [
        "#write your code here"
      ],
      "metadata": {
        "id": "-MFfUJNJp5wY"
      },
      "execution_count": null,
      "outputs": []
    },
    {
      "cell_type": "markdown",
      "source": [
        " declare a value to the valrable then print the type of value"
      ],
      "metadata": {
        "id": "b9GaqLWgqBOW"
      }
    },
    {
      "cell_type": "code",
      "source": [
        "#write your code here"
      ],
      "metadata": {
        "id": "P_U7hv3VqaCM"
      },
      "execution_count": null,
      "outputs": []
    },
    {
      "cell_type": "markdown",
      "source": [
        "Write a python code using Format Method and \"fstrings\""
      ],
      "metadata": {
        "id": "qALPtb9iqdah"
      }
    },
    {
      "cell_type": "code",
      "source": [
        "#write your code here"
      ],
      "metadata": {
        "id": "GybmaiaiqzQv"
      },
      "execution_count": null,
      "outputs": []
    },
    {
      "cell_type": "markdown",
      "source": [
        "Write a python code using .join() method\n",
        "\n",
        "Input format:\n",
        "kiet\n",
        "Output format:\n",
        "kkiet"
      ],
      "metadata": {
        "id": "WnitQ77GpcWQ"
      }
    },
    {
      "cell_type": "code",
      "source": [
        "#write your code here"
      ],
      "metadata": {
        "id": "zmQ2Y2wjrY7-"
      },
      "execution_count": null,
      "outputs": []
    },
    {
      "cell_type": "markdown",
      "source": [
        "Write a python code for checking whether the person is eligible for  Vote or Not  using conditionals"
      ],
      "metadata": {
        "id": "xzP0JMI5rWQ9"
      }
    },
    {
      "cell_type": "code",
      "source": [
        "#write your code here"
      ],
      "metadata": {
        "id": "JEb5o1NTrz7V"
      },
      "execution_count": null,
      "outputs": []
    },
    {
      "cell_type": "markdown",
      "source": [
        "write simple codes using string methods:\n"
      ],
      "metadata": {
        "id": "KDH6s5xkr1L1"
      }
    },
    {
      "cell_type": "code",
      "source": [
        "#any 10 methods\n",
        "#write your code here"
      ],
      "metadata": {
        "id": "UiMrtWMPsagV"
      },
      "execution_count": null,
      "outputs": []
    },
    {
      "cell_type": "markdown",
      "source": [
        "#DEBUGGING"
      ],
      "metadata": {
        "id": "X4b8OXNish-E"
      }
    },
    {
      "cell_type": "code",
      "source": [
        "a=kiet\n",
        "b=kiek\n",
        "print(\"both {} and {} are in same campus\".format())\n",
        "#output should be like this\n",
        "#both kiet and kiek are in same campus"
      ],
      "metadata": {
        "colab": {
          "base_uri": "https://localhost:8080/",
          "height": 210
        },
        "id": "eArmRQ2Xsg4b",
        "outputId": "62dac450-7806-47e2-e812-210b6aa7839e"
      },
      "execution_count": null,
      "outputs": [
        {
          "output_type": "error",
          "ename": "NameError",
          "evalue": "ignored",
          "traceback": [
            "\u001b[0;31m---------------------------------------------------------------------------\u001b[0m",
            "\u001b[0;31mNameError\u001b[0m                                 Traceback (most recent call last)",
            "\u001b[0;32m<ipython-input-1-2e3d53434296>\u001b[0m in \u001b[0;36m<cell line: 1>\u001b[0;34m()\u001b[0m\n\u001b[0;32m----> 1\u001b[0;31m \u001b[0ma\u001b[0m\u001b[0;34m=\u001b[0m\u001b[0mkiet\u001b[0m\u001b[0;34m\u001b[0m\u001b[0;34m\u001b[0m\u001b[0m\n\u001b[0m\u001b[1;32m      2\u001b[0m \u001b[0mb\u001b[0m\u001b[0;34m=\u001b[0m\u001b[0mkiet\u001b[0m\u001b[0;34m\u001b[0m\u001b[0;34m\u001b[0m\u001b[0m\n\u001b[1;32m      3\u001b[0m \u001b[0mprint\u001b[0m\u001b[0;34m(\u001b[0m\u001b[0;34m\"both {} and {} are in same campus\"\u001b[0m\u001b[0;34m.\u001b[0m\u001b[0mformat\u001b[0m\u001b[0;34m(\u001b[0m\u001b[0;34m)\u001b[0m\u001b[0;34m)\u001b[0m\u001b[0;34m\u001b[0m\u001b[0;34m\u001b[0m\u001b[0m\n",
            "\u001b[0;31mNameError\u001b[0m: name 'kiet' is not defined"
          ]
        }
      ]
    },
    {
      "cell_type": "code",
      "source": [
        "a=\"kiet\"\n",
        "b=\"kiek\"\n",
        "print(f\"both {0} and {1} are in same campus\")\n",
        "#both kiet and kiek are in same campus\n",
        "#correct the output\n"
      ],
      "metadata": {
        "colab": {
          "base_uri": "https://localhost:8080/"
        },
        "id": "NTSKMEAftLde",
        "outputId": "19f4c01d-453b-4bd9-abac-8f5b0382b804"
      },
      "execution_count": null,
      "outputs": [
        {
          "output_type": "stream",
          "name": "stdout",
          "text": [
            "both 0 and 1 are in same campus\n"
          ]
        }
      ]
    },
    {
      "cell_type": "code",
      "source": [
        "a=5\n",
        "b=12\n",
        "if a==5 And b==12\n",
        "  print(a,b)\n",
        "# correct the code\n"
      ],
      "metadata": {
        "colab": {
          "base_uri": "https://localhost:8080/"
        },
        "id": "1Kl6TiW5t85r",
        "outputId": "caca9218-aa9a-4445-c55a-5a01edc21117"
      },
      "execution_count": null,
      "outputs": [
        {
          "output_type": "stream",
          "name": "stdout",
          "text": [
            "5 12\n"
          ]
        }
      ]
    },
    {
      "cell_type": "code",
      "source": [
        "if a%2==0:\n",
        "   print(\"a is divisible by 2\")\n",
        "\n",
        "   else:\n",
        "    print(\"not divisible\")"
      ],
      "metadata": {
        "id": "HZn24oUpucy8"
      },
      "execution_count": null,
      "outputs": []
    }
  ]
}